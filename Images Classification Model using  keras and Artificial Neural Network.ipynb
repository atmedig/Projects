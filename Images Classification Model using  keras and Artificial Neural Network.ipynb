{
 "cells": [
  {
   "cell_type": "markdown",
   "id": "de1406ba",
   "metadata": {},
   "source": [
    ""
   ]
  },
  {
   "cell_type": "markdown",
   "id": "8b6f603c",
   "metadata": {},
   "source": [
    "<center><h1>Técnicas de Inteligencia Artificial</header1></center>\n",
    "<left><h1>Images Classification Model using Keras and Artificial Neural Network</header1></left>"
   ]
  },
  {
   "cell_type": "markdown",
   "id": "3eb1aaac",
   "metadata": {},
   "source": [
    "Presentado por: Angie Tatiana Medina Giraldo  <br>\n",
    "Fecha: 30/05/2022"
   ]
  },
  {
   "cell_type": "markdown",
   "id": "1dec299b",
   "metadata": {
    "ExecuteTime": {
     "end_time": "2022-03-14T15:14:04.930713Z",
     "start_time": "2022-03-14T15:14:04.921682Z"
    }
   },
   "source": [
    "# Importación de librerias necesarias"
   ]
  },
  {
   "cell_type": "markdown",
   "id": "62f9424f",
   "metadata": {},
   "source": [
    "# Parte II. Clasificación"
   ]
  },
  {
   "cell_type": "code",
   "execution_count": 1,
   "id": "6d1abf7a",
   "metadata": {
    "ExecuteTime": {
     "end_time": "2022-03-14T15:14:46.228059Z",
     "start_time": "2022-03-14T15:14:46.223108Z"
    }
   },
   "outputs": [
    {
     "name": "stdout",
     "output_type": "stream",
     "text": [
      "2.6.0\n"
     ]
    }
   ],
   "source": [
    "#Para esta actividad se importarán las siguientes librerías:\n",
    "\n",
    "import pandas as pd\n",
    "import seaborn as sns\n",
    "import numpy as np\n",
    "import matplotlib.pyplot as plt\n",
    "import warnings\n",
    "\n",
    "import tensorflow as tf\n",
    "from tensorflow import keras\n",
    "from tensorflow.keras import Sequential\n",
    "from tensorflow.keras.layers import Flatten, Dense\n",
    "from tensorflow.keras import layers\n",
    "\n",
    "from sklearn.ensemble import RandomForestClassifier\n",
    "from sklearn import metrics\n",
    "from sklearn.metrics import accuracy_score, confusion_matrix, recall_score, precision_score, f1_score, ConfusionMatrixDisplay, classification_report\n",
    "\n",
    "print(tf.__version__)"
   ]
  },
  {
   "cell_type": "markdown",
   "id": "6a44b924",
   "metadata": {},
   "source": [
    "## Cargar el Dataset\n",
    " "
   ]
  },
  {
   "cell_type": "code",
   "execution_count": 2,
   "id": "3541e808",
   "metadata": {},
   "outputs": [],
   "source": [
    "#Código para cargar el Dataset\n",
    "df = tf.keras.datasets.cifar10\n",
    "(x_train, y_train), (x_test, y_test)  = df.load_data()"
   ]
  },
  {
   "cell_type": "markdown",
   "id": "c251c248",
   "metadata": {},
   "source": [
    "## Descripción de la fuente del Dataset"
   ]
  },
  {
   "cell_type": "markdown",
   "id": "53452ea7",
   "metadata": {},
   "source": [
    "Para esta actividad se utiliza el dataset cifar10. Se puede encontrar en el siguiente enlace y cargar directamente desde keras: https://keras.io/api/datasets/cifar10/"
   ]
  },
  {
   "cell_type": "markdown",
   "id": "7f868eab",
   "metadata": {},
   "source": [
    "## Explique el problema a resolver. \n",
    "\n",
    "Se plantea un problema de clasificación a partir del dataset CIFAR-10 de keras donde se busca predecir una imagen.  El problema presenta 10 clases que correponden a las siguientes categorías de imágenes: airplane, automobile,bird,cat,deer,dog,frog,horse,ship, truck. El dataset contiene 60000 imagenes a color en una resolucion de 32 por 32 pixeles en 3 canales dividido en 10 clases."
   ]
  },
  {
   "cell_type": "markdown",
   "id": "a0b719c1",
   "metadata": {},
   "source": [
    "## Caracterización del Dataset\n",
    "\n",
    "Número de instancias en total: 60000 imagenes\n",
    "Número de atributos de entrada, su significado y tipo: 32 x 32 pixeles in 3 canales\n",
    "Número de clases de la variable objetivo: 10\n",
    "Clases de la variable objetivo: airplane, automobile, bird, cat, deer, dog, frog, horse, ship, truck\n",
    "\n",
    "Número de instancias pertenecientes a cada clase en la variable objetivo: cada clase presenta 6000 imágenes\n",
    "\n"
   ]
  },
  {
   "cell_type": "code",
   "execution_count": 3,
   "id": "116cd559",
   "metadata": {},
   "outputs": [
    {
     "name": "stdout",
     "output_type": "stream",
     "text": [
      "Total number of Images in the Dataset: 60000\n",
      "Number of train images: 50000\n",
      "Number of test images: 10000\n",
      "Shape of training dataset: (50000, 32, 32, 3)\n",
      "Shape of testing dataset: (10000, 32, 32, 3)\n"
     ]
    }
   ],
   "source": [
    "# Tamaño del conjunto de pruebas y entrenamiento\n",
    "print('Total number of Images in the Dataset:', len(x_train) + len(x_test))\n",
    "print('Number of train images:', len(x_train))\n",
    "print('Number of test images:', len(x_test))\n",
    "print('Shape of training dataset:',x_train.shape)\n",
    "print('Shape of testing dataset:',x_test.shape)"
   ]
  },
  {
   "cell_type": "code",
   "execution_count": 4,
   "id": "4f173a82",
   "metadata": {},
   "outputs": [
    {
     "data": {
      "text/plain": [
       "False"
      ]
     },
     "execution_count": 4,
     "metadata": {},
     "output_type": "execute_result"
    }
   ],
   "source": [
    "#Codigo para evaluar si hay valores nulos en datos de entreamiento\n",
    "np.isnan(x_train).any()"
   ]
  },
  {
   "cell_type": "code",
   "execution_count": 5,
   "id": "040121c1",
   "metadata": {},
   "outputs": [
    {
     "data": {
      "text/plain": [
       "False"
      ]
     },
     "execution_count": 5,
     "metadata": {},
     "output_type": "execute_result"
    }
   ],
   "source": [
    "#Codigo para evaluar si hay valores nulos en datos de prueba\n",
    "np.isnan(x_test).any()"
   ]
  },
  {
   "cell_type": "code",
   "execution_count": 6,
   "id": "614cf6e1",
   "metadata": {},
   "outputs": [],
   "source": [
    "classes = ['airplane', 'automobile', 'bird', 'cat', 'deer', 'dog', 'frog', 'horse', 'ship', 'truck']"
   ]
  },
  {
   "cell_type": "code",
   "execution_count": 7,
   "id": "544051b8",
   "metadata": {},
   "outputs": [
    {
     "data": {
      "image/png": "[encoded data removed]",
      "text/plain": [
       "<Figure size 1296x432 with 2 Axes>"
      ]
     },
     "metadata": {
      "needs_background": "light"
     },
     "output_type": "display_data"
    }
   ],
   "source": [
    "#Codigo para graficar las clases en conjunto de entrenamiento y test\n",
    "\n",
    "warnings.filterwarnings('ignore')\n",
    "\n",
    "figure, axis = plt.subplots( 1, 2 , figsize = (18,6))\n",
    "sns.countplot(y_train.ravel(),ax = axis[0])\n",
    "axis[0].set_title('Distribución datos de entrenamiento')\n",
    "axis[0].set_xlabel('Clases')\n",
    "\n",
    "\n",
    "# Count plot for testing set\n",
    "sns.countplot(y_test.ravel(), ax=axis[1])\n",
    "axis[1].set_title('Distribucion datos de prueba')\n",
    "axis[1].set_xlabel('Clases')\n",
    "plt.show()"
   ]
  },
  {
   "cell_type": "code",
   "execution_count": 8,
   "id": "a406c17d",
   "metadata": {},
   "outputs": [
    {
     "data": {
      "image/png": "[encoded data removed]",
      "text/plain": [
       "<Figure size 432x288 with 2 Axes>"
      ]
     },
     "metadata": {
      "needs_background": "light"
     },
     "output_type": "display_data"
    }
   ],
   "source": [
    "plt.figure()\n",
    "plt.imshow(x_train[0])\n",
    "plt.colorbar()\n",
    "plt.grid(False)\n",
    "plt.show()"
   ]
  },
  {
   "cell_type": "markdown",
   "id": "a7ab5e48",
   "metadata": {},
   "source": [
    "El dataset contiene 60000 instancias o imágenes a color en una resolución de 32 por 32 pixeles en 3 canales dividido en 3 clases. Cada clase tiene 6000 imágenes lo que india que está balanceda (5000 para el conjueno de entrenamiento y 10000 para el conjunto de prueba)"
   ]
  },
  {
   "cell_type": "markdown",
   "id": "ece5beca",
   "metadata": {
    "ExecuteTime": {
     "end_time": "2022-03-14T15:52:20.156185Z",
     "start_time": "2022-03-14T15:52:20.150187Z"
    }
   },
   "source": [
    "## Preprocesamiento del dataset. Transformaciones previas necesarias para la modelación"
   ]
  },
  {
   "cell_type": "code",
   "execution_count": 9,
   "id": "85c9ad88",
   "metadata": {},
   "outputs": [],
   "source": [
    "#Código que realice las transformaciones necesarias para poder realizar los procesos de modelación. \n",
    "# Codigo para Normalizacion\n",
    "x_train = x_train/255.0\n",
    "x_test = x_test/255.0"
   ]
  },
  {
   "cell_type": "markdown",
   "id": "49815fde",
   "metadata": {
    "ExecuteTime": {
     "end_time": "2022-03-14T15:56:34.366469Z",
     "start_time": "2022-03-14T15:56:34.358471Z"
    }
   },
   "source": [
    "## División del dataset en datos de entrenamiento y datos de test "
   ]
  },
  {
   "cell_type": "markdown",
   "id": "2f359ffd",
   "metadata": {},
   "source": [
    "El dataset ya está dividido en 50000 imagenes para el conjunto de entrenamiento y 10000 imagenes para test\n"
   ]
  },
  {
   "cell_type": "markdown",
   "id": "8b189911",
   "metadata": {},
   "source": [
    "## Propuesta de arquitectura de red neuronal"
   ]
  },
  {
   "cell_type": "markdown",
   "id": "f54e4b8d",
   "metadata": {},
   "source": [
    "Describe: \n",
    "\n",
    "La primera capa de esta red Flatten,  transforma el formato de las imagenes de un arreglo tri-dimensional (de 32 por 32 pixeles x 3 RGD) a un arreglo uni dimensional (de 32*32*3 pixeles = 3072 pixeles)\n",
    "\n",
    "Despues de que los pixeles estan \"aplanados\", la secuencia consiste de dos capas Dense. Estas estan densamente conectadas, o completamente conectadas, de 3000 y 1000 neuronas respectivamente y función de activación Relu \n",
    "\n",
    "La tercera (y ultima) capa es una capa de 10 nodos *softmax* que devuelve un arreglo de 10 probabilidades que suman a 1. Cada nodo contiene una calificacion que indica la probabilidad que la actual imagen pertenece a una de las 10 clases.\n"
   ]
  },
  {
   "cell_type": "code",
   "execution_count": 10,
   "id": "2eaa0e96",
   "metadata": {},
   "outputs": [],
   "source": [
    "# Código de la estructuración de la red\n",
    "\n",
    "tf.random.set_seed(10)\n",
    "\n",
    "model = keras.Sequential([\n",
    "    keras.layers.Flatten(input_shape=(32, 32,3)),\n",
    "    keras.layers.Dense(3000, activation='relu'),\n",
    "    keras.layers.Dense(1000, activation='relu'),\n",
    "    keras.layers.Dense(10, activation='softmax')\n",
    "])\n",
    "\n",
    "#Código de ajuste y entrenamiento\n",
    "model.compile(optimizer='SGD',\n",
    "              loss='sparse_categorical_crossentropy',\n",
    "              metrics=['accuracy'])"
   ]
  },
  {
   "cell_type": "code",
   "execution_count": 11,
   "id": "587d6fed",
   "metadata": {},
   "outputs": [
    {
     "name": "stdout",
     "output_type": "stream",
     "text": [
      "Model: \"sequential\"\n",
      "_________________________________________________________________\n",
      "Layer (type)                 Output Shape              Param #   \n",
      "=================================================================\n",
      "flatten (Flatten)            (None, 3072)              0         \n",
      "_________________________________________________________________\n",
      "dense (Dense)                (None, 3000)              9219000   \n",
      "_________________________________________________________________\n",
      "dense_1 (Dense)              (None, 1000)              3001000   \n",
      "_________________________________________________________________\n",
      "dense_2 (Dense)              (None, 10)                10010     \n",
      "=================================================================\n",
      "Total params: 12,230,010\n",
      "Trainable params: 12,230,010\n",
      "Non-trainable params: 0\n",
      "_________________________________________________________________\n"
     ]
    }
   ],
   "source": [
    "#Código de la inspección del modelo de red\n",
    "model.summary()"
   ]
  },
  {
   "cell_type": "markdown",
   "id": "635384f7",
   "metadata": {},
   "source": [
    "##  Ajuste de modelo de Clasificación RNA"
   ]
  },
  {
   "cell_type": "markdown",
   "id": "1c9c3f6c",
   "metadata": {},
   "source": [
    "Mediante Python y utilizando al menos Keras sobre TensorFlow 2.0 (tensorflow.keras), entrena el modelo o modelos de red neuronal escogidos."
   ]
  },
  {
   "cell_type": "markdown",
   "id": "5a2831ee",
   "metadata": {},
   "source": [
    "### Visualice el progreso de entrenamiento del modelo y muestre las estadísticas de evaluación para los conjuntos de entrenamiento y validación.  "
   ]
  },
  {
   "cell_type": "code",
   "execution_count": 12,
   "id": "014be4e3",
   "metadata": {
    "scrolled": true
   },
   "outputs": [
    {
     "name": "stdout",
     "output_type": "stream",
     "text": [
      "Epoch 1/30\n",
      "1563/1563 [==============================] - 64s 39ms/step - loss: 1.8114 - accuracy: 0.3558\n",
      "Epoch 2/30\n",
      "1563/1563 [==============================] - 61s 39ms/step - loss: 1.6231 - accuracy: 0.4275\n",
      "Epoch 3/30\n",
      "1563/1563 [==============================] - 58s 37ms/step - loss: 1.5429 - accuracy: 0.45591s\n",
      "Epoch 4/30\n",
      "1563/1563 [==============================] - 59s 38ms/step - loss: 1.4799 - accuracy: 0.4798\n",
      "Epoch 5/30\n",
      "1563/1563 [==============================] - 59s 38ms/step - loss: 1.4321 - accuracy: 0.4981\n",
      "Epoch 6/30\n",
      "1563/1563 [==============================] - 60s 38ms/step - loss: 1.3874 - accuracy: 0.5117\n",
      "Epoch 7/30\n",
      "1563/1563 [==============================] - 59s 38ms/step - loss: 1.3502 - accuracy: 0.5234\n",
      "Epoch 8/30\n",
      "1563/1563 [==============================] - 60s 38ms/step - loss: 1.3124 - accuracy: 0.5400\n",
      "Epoch 9/30\n",
      "1563/1563 [==============================] - 61s 39ms/step - loss: 1.2818 - accuracy: 0.5493\n",
      "Epoch 10/30\n",
      "1563/1563 [==============================] - 61s 39ms/step - loss: 1.2476 - accuracy: 0.5619\n",
      "Epoch 11/30\n",
      "1563/1563 [==============================] - 61s 39ms/step - loss: 1.2190 - accuracy: 0.5731\n",
      "Epoch 12/30\n",
      "1563/1563 [==============================] - 61s 39ms/step - loss: 1.1909 - accuracy: 0.5824\n",
      "Epoch 13/30\n",
      "1563/1563 [==============================] - 61s 39ms/step - loss: 1.1645 - accuracy: 0.5917\n",
      "Epoch 14/30\n",
      "1563/1563 [==============================] - 63s 40ms/step - loss: 1.1380 - accuracy: 0.6025\n",
      "Epoch 15/30\n",
      "1563/1563 [==============================] - 61s 39ms/step - loss: 1.1102 - accuracy: 0.6115\n",
      "Epoch 16/30\n",
      "1563/1563 [==============================] - 60s 38ms/step - loss: 1.0832 - accuracy: 0.6218\n",
      "Epoch 17/30\n",
      "1563/1563 [==============================] - 59s 38ms/step - loss: 1.0566 - accuracy: 0.6335\n",
      "Epoch 18/30\n",
      "1563/1563 [==============================] - 59s 38ms/step - loss: 1.0314 - accuracy: 0.6408\n",
      "Epoch 19/30\n",
      "1563/1563 [==============================] - 54s 35ms/step - loss: 1.0039 - accuracy: 0.6502\n",
      "Epoch 20/30\n",
      "1563/1563 [==============================] - 59s 38ms/step - loss: 0.9783 - accuracy: 0.65870s - loss: 0.9780 - accura\n",
      "Epoch 21/30\n",
      "1563/1563 [==============================] - 59s 38ms/step - loss: 0.9544 - accuracy: 0.6698\n",
      "Epoch 22/30\n",
      "1563/1563 [==============================] - 58s 37ms/step - loss: 0.9263 - accuracy: 0.6805\n",
      "Epoch 23/30\n",
      "1563/1563 [==============================] - 60s 38ms/step - loss: 0.9006 - accuracy: 0.6870\n",
      "Epoch 24/30\n",
      "1563/1563 [==============================] - 58s 37ms/step - loss: 0.8756 - accuracy: 0.6969\n",
      "Epoch 25/30\n",
      "1563/1563 [==============================] - 60s 38ms/step - loss: 0.8499 - accuracy: 0.7078\n",
      "Epoch 26/30\n",
      "1563/1563 [==============================] - 56s 36ms/step - loss: 0.8244 - accuracy: 0.7162\n",
      "Epoch 27/30\n",
      "1563/1563 [==============================] - 60s 38ms/step - loss: 0.7997 - accuracy: 0.7241\n",
      "Epoch 28/30\n",
      "1563/1563 [==============================] - 60s 38ms/step - loss: 0.7740 - accuracy: 0.7343 ETA: 1s\n",
      "Epoch 29/30\n",
      "1563/1563 [==============================] - 57s 37ms/step - loss: 0.7477 - accuracy: 0.7443\n",
      "Epoch 30/30\n",
      "1563/1563 [==============================] - 58s 37ms/step - loss: 0.7239 - accuracy: 0.7540\n"
     ]
    }
   ],
   "source": [
    "#Código de ajuste y entrenamiento\n",
    "\n",
    "history= model.fit(x_train, y_train, epochs=30)"
   ]
  },
  {
   "cell_type": "markdown",
   "id": "13d20793",
   "metadata": {},
   "source": [
    "A medida que el modelo entrena, la perdida y la exactitud son desplegadas. Este modelo alcanza una exactitud de 0.7540  (o 75%) sobre el set de datos de entrenamiento.\n",
    "\n",
    "Accuracy Modelo Red Neuronal Training es 0.7540"
   ]
  },
  {
   "cell_type": "markdown",
   "id": "b5b563a4",
   "metadata": {},
   "source": [
    "## Evaluación de modelo RNA\n",
    "\n",
    "Defina las estadísticas (métricas) de evaluación, y dividiendo el dataset en datos de entrenamiento, validación y datos de test prueba tu propuesta."
   ]
  },
  {
   "cell_type": "code",
   "execution_count": 13,
   "id": "b65db21e",
   "metadata": {},
   "outputs": [
    {
     "data": {
      "text/plain": [
       "Text(0.5, 0, 'epochs')"
      ]
     },
     "execution_count": 13,
     "metadata": {},
     "output_type": "execute_result"
    },
    {
     "data": {
      "image/png": "[encoded data removed]",
      "text/plain": [
       "<Figure size 432x288 with 1 Axes>"
      ]
     },
     "metadata": {
      "needs_background": "light"
     },
     "output_type": "display_data"
    }
   ],
   "source": [
    "pd.DataFrame(history.history).plot()\n",
    "plt.ylabel(\"loss\")\n",
    "plt.xlabel(\"epochs\")"
   ]
  },
  {
   "cell_type": "markdown",
   "id": "c4646184",
   "metadata": {},
   "source": [
    "### Evalúe los resultados  para el conjunto de test."
   ]
  },
  {
   "cell_type": "code",
   "execution_count": 14,
   "id": "fc60e202",
   "metadata": {
    "ExecuteTime": {
     "end_time": "2022-04-25T07:15:41.472314Z",
     "start_time": "2022-04-25T07:15:41.465313Z"
    }
   },
   "outputs": [
    {
     "name": "stdout",
     "output_type": "stream",
     "text": [
      "313/313 - 3s - loss: 1.4296 - accuracy: 0.5351\n",
      "\n",
      "Test loss: 1.4296025037765503\n",
      "\n",
      "Test accuracy: 0.535099983215332\n"
     ]
    }
   ],
   "source": [
    "#Código de evaluación de la red propuesta (evaluación conjunto de test)\n",
    "test_loss, test_acc = model.evaluate(x_test,  y_test, verbose=2)\n",
    "print('\\nTest loss:', test_loss)\n",
    "print('\\nTest accuracy:', test_acc)"
   ]
  },
  {
   "cell_type": "code",
   "execution_count": 15,
   "id": "05908b61",
   "metadata": {
    "scrolled": true
   },
   "outputs": [
    {
     "name": "stdout",
     "output_type": "stream",
     "text": [
      "Classification Report: \n",
      "               precision    recall  f1-score   support\n",
      "\n",
      "           0       0.53      0.75      0.62      1000\n",
      "           1       0.82      0.49      0.61      1000\n",
      "           2       0.57      0.30      0.40      1000\n",
      "           3       0.48      0.25      0.33      1000\n",
      "           4       0.40      0.56      0.47      1000\n",
      "           5       0.59      0.26      0.36      1000\n",
      "           6       0.60      0.62      0.61      1000\n",
      "           7       0.44      0.76      0.56      1000\n",
      "           8       0.74      0.60      0.66      1000\n",
      "           9       0.49      0.76      0.60      1000\n",
      "\n",
      "    accuracy                           0.54     10000\n",
      "   macro avg       0.57      0.54      0.52     10000\n",
      "weighted avg       0.57      0.54      0.52     10000\n",
      "\n"
     ]
    }
   ],
   "source": [
    "#Codigo para la prediccion\n",
    "y_pred = model.predict(x_test)\n",
    "y_pred_classes = [np.argmax(element) for element in y_pred]\n",
    "print(\"Classification Report: \\n\", classification_report(y_test, y_pred_classes))"
   ]
  },
  {
   "cell_type": "code",
   "execution_count": 16,
   "id": "119e62c4",
   "metadata": {
    "scrolled": true
   },
   "outputs": [
    {
     "name": "stdout",
     "output_type": "stream",
     "text": [
      "Confusin_matrix \n",
      " tf.Tensor(\n",
      "[[752   6  16   2  43   2  15  36  59  69]\n",
      " [ 76 492   9  10  15   5  11  40  48 294]\n",
      " [110   8 305  37 211  24  94 158  12  41]\n",
      " [ 68  11  40 246 149 104 109 172  18  83]\n",
      " [ 66   0  47  26 557   8  96 159  13  28]\n",
      " [ 39   3  56 124 152 258  67 235  17  49]\n",
      " [ 22   3  24  35 150  10 616  73  16  51]\n",
      " [ 42   3  24  12  70  18  12 763   4  52]\n",
      " [177  26   7   5  33   5   5  31 599 112]\n",
      " [ 68  49   4  11  10   4   6  63  22 763]], shape=(10, 10), dtype=int32)\n"
     ]
    }
   ],
   "source": [
    "confusion_matrix1 = tf.math.confusion_matrix(y_test, y_pred_classes)\n",
    "print(\"Confusin_matrix \\n\", confusion_matrix1)"
   ]
  },
  {
   "cell_type": "code",
   "execution_count": 17,
   "id": "5c5f4c43",
   "metadata": {},
   "outputs": [
    {
     "name": "stdout",
     "output_type": "stream",
     "text": [
      "Accuracy Modelo Red Neuronal Test: 0.5351\n"
     ]
    }
   ],
   "source": [
    "print('Accuracy Modelo Red Neuronal Test: {0:0.4f}'. format(accuracy_score(y_test, y_pred_classes)))"
   ]
  },
  {
   "cell_type": "markdown",
   "id": "99feaa39",
   "metadata": {},
   "source": [
    "## Ajuste de modelos de clasificación alternativos"
   ]
  },
  {
   "cell_type": "markdown",
   "id": "d552bc64",
   "metadata": {},
   "source": [
    "Elige al menos un método de clasificación no basado en redes neuronales (p.ej. regresión logística, árboles de decisión, reglas de clasificación, random forest, SVM, etc)."
   ]
  },
  {
   "cell_type": "markdown",
   "id": "e3c9be11",
   "metadata": {},
   "source": [
    "Random Forest Classifier"
   ]
  },
  {
   "cell_type": "code",
   "execution_count": 18,
   "id": "d5d2b2c6",
   "metadata": {},
   "outputs": [],
   "source": [
    "#sklearn espera un array de 2 dimensiones para el modelo y las predicciones\n",
    "#El siguiente codigo cambia el tamaño del set de entrenamiento de (50000,32,32,3) el cual es 4D a un array de 2d (50000,3072) resultado del producto (32x32x3=3072).\n",
    "\n",
    "nsamples, nx, ny, nrgb = x_train.shape\n",
    "x_train2 = x_train.reshape((nsamples,nx*ny*nrgb))"
   ]
  },
  {
   "cell_type": "code",
   "execution_count": 19,
   "id": "d6bb591b",
   "metadata": {},
   "outputs": [],
   "source": [
    "nsamples, nx, ny, nrgb = x_test.shape\n",
    "x_test2 = x_test.reshape((nsamples,nx*ny*nrgb))"
   ]
  },
  {
   "cell_type": "code",
   "execution_count": 20,
   "id": "33f5be2a",
   "metadata": {
    "ExecuteTime": {
     "end_time": "2022-04-25T07:21:39.020596Z",
     "start_time": "2022-04-25T07:21:39.005596Z"
    }
   },
   "outputs": [
    {
     "data": {
      "text/plain": [
       "array([6, 0, 9, ..., 5, 6, 7], dtype=uint8)"
      ]
     },
     "execution_count": 20,
     "metadata": {},
     "output_type": "execute_result"
    }
   ],
   "source": [
    "#Modelo Random Forest\n",
    "\n",
    "model2=RandomForestClassifier(n_estimators=30, random_state=10)\n",
    "model2.fit(x_train2,y_train.ravel())\n",
    "y_pred2=model2.predict(x_test2)\n",
    "y_pred2"
   ]
  },
  {
   "cell_type": "code",
   "execution_count": 21,
   "id": "0a547dbd",
   "metadata": {},
   "outputs": [
    {
     "name": "stdout",
     "output_type": "stream",
     "text": [
      "Accuracy Modelo 2 en test: 0.4262\n"
     ]
    }
   ],
   "source": [
    "print('Accuracy Modelo 2 en test: {0:0.4f}'. format(accuracy_score(y_test, y_pred2)))"
   ]
  },
  {
   "cell_type": "code",
   "execution_count": 22,
   "id": "f950915b",
   "metadata": {},
   "outputs": [
    {
     "name": "stdout",
     "output_type": "stream",
     "text": [
      "Accuracy Modelo 2 en entrenamiento: 1.0000\n"
     ]
    }
   ],
   "source": [
    "y_pred2_train= model2.predict(x_train2)\n",
    "y_pred2_train\n",
    "print('Accuracy Modelo 2 en entrenamiento: {0:0.4f}'. format(accuracy_score(y_train, y_pred2_train)))"
   ]
  },
  {
   "cell_type": "code",
   "execution_count": 23,
   "id": "a2e675b3",
   "metadata": {},
   "outputs": [
    {
     "name": "stdout",
     "output_type": "stream",
     "text": [
      "              precision    recall  f1-score   support\n",
      "\n",
      "           0       0.49      0.57      0.53      1000\n",
      "           1       0.46      0.52      0.49      1000\n",
      "           2       0.32      0.34      0.33      1000\n",
      "           3       0.28      0.26      0.27      1000\n",
      "           4       0.37      0.37      0.37      1000\n",
      "           5       0.37      0.34      0.35      1000\n",
      "           6       0.44      0.46      0.45      1000\n",
      "           7       0.45      0.38      0.42      1000\n",
      "           8       0.57      0.57      0.57      1000\n",
      "           9       0.47      0.47      0.47      1000\n",
      "\n",
      "    accuracy                           0.43     10000\n",
      "   macro avg       0.42      0.43      0.42     10000\n",
      "weighted avg       0.42      0.43      0.42     10000\n",
      "\n"
     ]
    }
   ],
   "source": [
    "#Código para mostrar la evaluación del modelo 2\n",
    "\n",
    "print(classification_report(y_test,y_pred2))"
   ]
  },
  {
   "cell_type": "code",
   "execution_count": 24,
   "id": "6d768016",
   "metadata": {},
   "outputs": [
    {
     "data": {
      "text/plain": [
       "array([[567,  41,  52,  31,  33,  24,  23,  28, 152,  49],\n",
       "       [ 51, 517,  35,  52,  22,  31,  34,  33,  66, 159],\n",
       "       [109,  50, 335,  85, 135,  70, 107,  61,  24,  24],\n",
       "       [ 65,  52, 108, 261,  73, 176, 119,  67,  24,  55],\n",
       "       [ 56,  34, 156,  47, 366,  71, 133,  93,  25,  19],\n",
       "       [ 43,  41, 103, 190,  74, 338,  77,  76,  25,  33],\n",
       "       [ 19,  53, 125,  86, 129,  57, 458,  36,   6,  31],\n",
       "       [ 61,  47,  76,  84, 105,  89,  47, 382,  31,  78],\n",
       "       [106, 106,  25,  40,  21,  25,  10,  17, 571,  79],\n",
       "       [ 83, 188,  24,  40,  22,  24,  27,  47,  78, 467]], dtype=int64)"
      ]
     },
     "execution_count": 24,
     "metadata": {},
     "output_type": "execute_result"
    }
   ],
   "source": [
    "#Codigo para ma Matriz de confusion\n",
    "\n",
    "from sklearn.metrics import confusion_matrix\n",
    "confusion_matrix(y_test, y_pred2)"
   ]
  },
  {
   "cell_type": "code",
   "execution_count": 25,
   "id": "f4390eaa",
   "metadata": {},
   "outputs": [
    {
     "name": "stdout",
     "output_type": "stream",
     "text": [
      "Accuracy Modelo Random Forest Test: 0.4262\n",
      "Accuracy Modelo Random Forest Training: 1.0000\n"
     ]
    }
   ],
   "source": [
    "print('Accuracy Modelo Random Forest Test: {0:0.4f}'. format(accuracy_score(y_test, y_pred2)))\n",
    "print('Accuracy Modelo Random Forest Training: {0:0.4f}'. format(accuracy_score(y_train, y_pred2_train)))"
   ]
  },
  {
   "cell_type": "markdown",
   "id": "ad219a0c",
   "metadata": {},
   "source": [
    "Construya un o dos párrafos con los principales hallazgos. Incluye una explicación de los parámetros que consideres relevantes en cada ejecución.\n",
    "\n",
    "Random Forest Classifier shows only 36% accuracy on the test set.\n"
   ]
  },
  {
   "cell_type": "markdown",
   "id": "44df4eb5",
   "metadata": {},
   "source": [
    "## Comparación del desempeño de modelos\n",
    "\n",
    "Muestra los resultados obtenidos por los diferentes algoritmos escogidos de forma gráfica y comparada/superpuesta."
   ]
  },
  {
   "cell_type": "code",
   "execution_count": 26,
   "id": "fe4acd93",
   "metadata": {},
   "outputs": [
    {
     "name": "stdout",
     "output_type": "stream",
     "text": [
      "Accuracy Modelo Redes neuronales Test: 0.5351\n",
      "Accuracy Modelo Redes neuronales Training:0.7540\n",
      "Accuracy Modelo Random Forest en test: 0.4262\n",
      "Accuracy Modelo Random Forest Training: 1.0000\n"
     ]
    }
   ],
   "source": [
    "#Código para mostrar la comparación de métricas de desempeño de las dos propuestas en tabla\n",
    "\n",
    "print('Accuracy Modelo Redes neuronales Test: {0:0.4f}'. format(accuracy_score(y_test, y_pred_classes)))\n",
    "print('Accuracy Modelo Redes neuronales Training:0.7540')\n",
    "\n",
    "print('Accuracy Modelo Random Forest en test: {0:0.4f}'. format(accuracy_score(y_test, y_pred2)))\n",
    "      \n",
    "print('Accuracy Modelo Random Forest Training: {0:0.4f}'. format(accuracy_score(y_train, y_pred2_train)))"
   ]
  },
  {
   "cell_type": "code",
   "execution_count": 27,
   "id": "8f743843",
   "metadata": {},
   "outputs": [],
   "source": [
    "#Código para mostrar la comparación de métricas de desempeño de las dos propuestas en gráfica\n",
    "\n",
    "Accuracy_RN_Test = accuracy_score(y_test, y_pred_classes)\n",
    "Accuracy_RN_Entrenamiento =0.7540\n",
    "Accuracy_RF_Test= accuracy_score(y_test, y_pred2)\n",
    "Accuracy_RF_Entrenamiento = accuracy_score(y_train, y_pred2_train)"
   ]
  },
  {
   "cell_type": "code",
   "execution_count": 28,
   "id": "e04addfb",
   "metadata": {},
   "outputs": [
    {
     "data": {
      "image/png": "[encoded data removed]",
      "text/plain": [
       "<Figure size 432x288 with 1 Axes>"
      ]
     },
     "metadata": {
      "needs_background": "light"
     },
     "output_type": "display_data"
    }
   ],
   "source": [
    "## Declaramos valores para el eje x\n",
    "eje_x = ['Accuracy Redes Neuronales test', 'Accuracy Redes Neuronales Trainning', 'Accuracy Random Forest Test', 'Accuracy Random Forest Trainning']\n",
    "eje_y = [Accuracy_RN_Test,Accuracy_RN_Entrenamiento,Accuracy_RF_Test,Accuracy_RF_Entrenamiento]\n",
    "plt.barh(eje_x, eje_y)\n",
    "plt.ylabel('Metricas')\n",
    "plt.xlabel('Resultados')\n",
    "plt.title('Comparación resultados ')\n",
    "plt.show()"
   ]
  },
  {
   "cell_type": "markdown",
   "id": "f11d5ab4",
   "metadata": {},
   "source": [
    "Construya un párrafo con los principales hallazgos."
   ]
  },
  {
   "cell_type": "markdown",
   "id": "f810fb47",
   "metadata": {
    "ExecuteTime": {
     "end_time": "2022-03-14T16:16:57.134093Z",
     "start_time": "2022-03-14T16:16:57.117129Z"
    }
   },
   "source": [
    "## Discusión de los resultados obtenidos y argumentos sobre cómo se podrían mejorar de dichos resultados"
   ]
  },
  {
   "cell_type": "markdown",
   "id": "c74b3044",
   "metadata": {},
   "source": [
    "EL modelo de redes neuronales funciona mejor con un accuracy de 57% contra un resultado de accuracy del modelo de Random Forest del 42%. Ambos algoritmos presentan un resultado bajo.\n",
    "\n",
    "El modelo de neuronales alcanza una exactitud de 75%  sobre el set de datos de entrenamiento y de 57% sobre el set de datos de prueba. Esta diferencia entre el entrenamiento y el test se debe a overfitting (sobre ajuste). Sobre ajuste sucede cuando un modelo de aprendizaje de maquina (ML) tiene un rendimiento peor sobre un set de datos nuevo, que nunca antes ha visto comparado con el de entrenamiento.\n",
    "\n",
    "\n",
    "Para mejorar los resultados del modelo de redes neuronales+ Explicación de cómo se podrían mejorar los resultados obtenidos por las redes neuronales, independientemente de que mejoren o no a los algoritmos no basados en redes neuronales."
   ]
  },
  {
   "cell_type": "code",
   "execution_count": null,
   "id": "aed1190e",
   "metadata": {},
   "outputs": [],
   "source": []
  }
 ],
 "metadata": {
  "kernelspec": {
   "display_name": "Python 3 (ipykernel)",
   "language": "python",
   "name": "python3"
  },
  "language_info": {
   "codemirror_mode": {
    "name": "ipython",
    "version": 3
   },
   "file_extension": ".py",
   "mimetype": "text/x-python",
   "name": "python",
   "nbconvert_exporter": "python",
   "pygments_lexer": "ipython3",
   "version": "3.9.12"
  },
  "toc": {
   "base_numbering": 1,
   "nav_menu": {},
   "number_sections": true,
   "sideBar": true,
   "skip_h1_title": true,
   "title_cell": "Tabla de Contenido",
   "title_sidebar": "Contenido",
   "toc_cell": false,
   "toc_position": {
    "height": "calc(100% - 180px)",
    "left": "10px",
    "top": "150px",
    "width": "263.591px"
   },
   "toc_section_display": true,
   "toc_window_display": true
  }
 },
 "nbformat": 4,
 "nbformat_minor": 5
}
