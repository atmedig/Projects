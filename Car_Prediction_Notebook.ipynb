{
 "cells": [
  {
   "cell_type": "markdown",
   "id": "de1406ba",
   "metadata": {},
   "source": [
    "<img src=\"https://www.unir.net/wp-content/uploads/2019/11/Unir_2021_logo.svg\" width=\"240\" height=\"240\" align=\"right\"/>"
   ]
  },
  {
   "cell_type": "markdown",
   "id": "8b6f603c",
   "metadata": {},
   "source": [
    "<center><h1>Técnicas de Inteligencia Artificial</header1></center>\n",
    "<left><h1>Actividad 1. Laboratorio: Árboles de decisión, reglas y ensemble learning</header1></left>"
   ]
  },
  {
   "cell_type": "markdown",
   "id": "3eb1aaac",
   "metadata": {},
   "source": [
    "Presentado por: Angie Tatiana Medina Giraldo  <br>\n",
    "Fecha: 09/04/2022"
   ]
  },
  {
   "cell_type": "markdown",
   "id": "1dec299b",
   "metadata": {
    "ExecuteTime": {
     "end_time": "2022-03-14T15:14:04.930713Z",
     "start_time": "2022-03-14T15:14:04.921682Z"
    }
   },
   "source": [
    "## Importación de librerias necesarias"
   ]
  },
  {
   "cell_type": "code",
   "execution_count": 3,
   "id": "6d1abf7a",
   "metadata": {
    "ExecuteTime": {
     "end_time": "2022-03-14T15:14:46.228059Z",
     "start_time": "2022-03-14T15:14:46.223108Z"
    }
   },
   "outputs": [],
   "source": [
    "import pandas as pd\n",
    "import seaborn as sns\n",
    "import numpy as np\n",
    "import matplotlib.pyplot as plt\n",
    "from sklearn.preprocessing import OrdinalEncoder, LabelEncoder\n",
    "from sklearn.model_selection import train_test_split\n",
    "from sklearn.tree import DecisionTreeClassifier\n",
    "from sklearn.ensemble import RandomForestClassifier\n",
    "from sklearn import metrics\n",
    "from sklearn.metrics import accuracy_score, confusion_matrix, roc_curve, roc_auc_score, recall_score, precision_score, balanced_accuracy_score, f1_score, RocCurveDisplay, ConfusionMatrixDisplay, classification_report\n",
    "from sklearn.model_selection import KFold\n",
    "from sklearn.model_selection import cross_val_score\n",
    "from sklearn import tree"
   ]
  },
  {
   "cell_type": "markdown",
   "id": "6a44b924",
   "metadata": {},
   "source": [
    "## Cargar el Dataset"
   ]
  },
  {
   "cell_type": "code",
   "execution_count": 2,
   "id": "3541e808",
   "metadata": {},
   "outputs": [
    {
     "data": {
      "text/html": [
       "<div>\n",
       "<style scoped>\n",
       "    .dataframe tbody tr th:only-of-type {\n",
       "        vertical-align: middle;\n",
       "    }\n",
       "\n",
       "    .dataframe tbody tr th {\n",
       "        vertical-align: top;\n",
       "    }\n",
       "\n",
       "    .dataframe thead th {\n",
       "        text-align: right;\n",
       "    }\n",
       "</style>\n",
       "<table border=\"1\" class=\"dataframe\">\n",
       "  <thead>\n",
       "    <tr style=\"text-align: right;\">\n",
       "      <th></th>\n",
       "      <th>Buying</th>\n",
       "      <th>Maintenance</th>\n",
       "      <th>Doors</th>\n",
       "      <th>Person</th>\n",
       "      <th>lug_boot</th>\n",
       "      <th>safety</th>\n",
       "      <th>class</th>\n",
       "    </tr>\n",
       "  </thead>\n",
       "  <tbody>\n",
       "    <tr>\n",
       "      <th>0</th>\n",
       "      <td>vhigh</td>\n",
       "      <td>vhigh</td>\n",
       "      <td>2</td>\n",
       "      <td>2</td>\n",
       "      <td>small</td>\n",
       "      <td>low</td>\n",
       "      <td>unacc</td>\n",
       "    </tr>\n",
       "    <tr>\n",
       "      <th>1</th>\n",
       "      <td>vhigh</td>\n",
       "      <td>vhigh</td>\n",
       "      <td>2</td>\n",
       "      <td>2</td>\n",
       "      <td>small</td>\n",
       "      <td>med</td>\n",
       "      <td>unacc</td>\n",
       "    </tr>\n",
       "    <tr>\n",
       "      <th>2</th>\n",
       "      <td>vhigh</td>\n",
       "      <td>vhigh</td>\n",
       "      <td>2</td>\n",
       "      <td>2</td>\n",
       "      <td>small</td>\n",
       "      <td>high</td>\n",
       "      <td>unacc</td>\n",
       "    </tr>\n",
       "    <tr>\n",
       "      <th>3</th>\n",
       "      <td>vhigh</td>\n",
       "      <td>vhigh</td>\n",
       "      <td>2</td>\n",
       "      <td>2</td>\n",
       "      <td>med</td>\n",
       "      <td>low</td>\n",
       "      <td>unacc</td>\n",
       "    </tr>\n",
       "    <tr>\n",
       "      <th>4</th>\n",
       "      <td>vhigh</td>\n",
       "      <td>vhigh</td>\n",
       "      <td>2</td>\n",
       "      <td>2</td>\n",
       "      <td>med</td>\n",
       "      <td>med</td>\n",
       "      <td>unacc</td>\n",
       "    </tr>\n",
       "  </tbody>\n",
       "</table>\n",
       "</div>"
      ],
      "text/plain": [
       "  Buying Maintenance Doors Person lug_boot safety  class\n",
       "0  vhigh       vhigh     2      2    small    low  unacc\n",
       "1  vhigh       vhigh     2      2    small    med  unacc\n",
       "2  vhigh       vhigh     2      2    small   high  unacc\n",
       "3  vhigh       vhigh     2      2      med    low  unacc\n",
       "4  vhigh       vhigh     2      2      med    med  unacc"
      ]
     },
     "execution_count": 2,
     "metadata": {},
     "output_type": "execute_result"
    }
   ],
   "source": [
    "#Código para cargar el Dataset\n",
    "url=\"https://raw.githubusercontent.com/oscar-unir/TIA/main/datasets/car/Laboratorio_dataset_car.csv\"\n",
    "df = pd.read_csv(url, sep=\";\")\n",
    "df.head()"
   ]
  },
  {
   "cell_type": "markdown",
   "id": "7f868eab",
   "metadata": {},
   "source": [
    "## Explique el problema a resolver. \n",
    "\n",
    "Se presenta un problema de clasificación donde se busca predecir la aceptación de un vehículo a partir de diferentes atributos.La variable objetivo es Class, y se busca determinar si el vehículo aceptable, inaceptable, bueno o o muy bueno es a partir de las variables de entrada Buying, Maintennace, Doors, Person, lug boot y safety\n"
   ]
  },
  {
   "cell_type": "markdown",
   "id": "a0b719c1",
   "metadata": {},
   "source": [
    "## Caracterización del Dataset\n",
    "\n",
    "A continuación se realiza una descripción de los datos\n"
   ]
  },
  {
   "cell_type": "code",
   "execution_count": 3,
   "id": "afe35f65",
   "metadata": {},
   "outputs": [
    {
     "data": {
      "text/plain": [
       "(1750, 7)"
      ]
     },
     "execution_count": 3,
     "metadata": {},
     "output_type": "execute_result"
    }
   ],
   "source": [
    "df.shape\n",
    "#El dataset contiene 1750 obserervaciones y 7 variables"
   ]
  },
  {
   "cell_type": "code",
   "execution_count": 4,
   "id": "f68bd31d",
   "metadata": {},
   "outputs": [
    {
     "data": {
      "text/plain": [
       "array(['Buying', 'Maintenance', 'Doors', 'Person', 'lug_boot', 'safety',\n",
       "       'class'], dtype=object)"
      ]
     },
     "execution_count": 4,
     "metadata": {},
     "output_type": "execute_result"
    }
   ],
   "source": [
    "df.columns.values\n",
    "#El dataset contiene 7 variables"
   ]
  },
  {
   "cell_type": "code",
   "execution_count": 5,
   "id": "4acaf2b8",
   "metadata": {
    "scrolled": true
   },
   "outputs": [
    {
     "name": "stdout",
     "output_type": "stream",
     "text": [
      "<class 'pandas.core.frame.DataFrame'>\n",
      "RangeIndex: 1750 entries, 0 to 1749\n",
      "Data columns (total 7 columns):\n",
      " #   Column       Non-Null Count  Dtype \n",
      "---  ------       --------------  ----- \n",
      " 0   Buying       1750 non-null   object\n",
      " 1   Maintenance  1750 non-null   object\n",
      " 2   Doors        1750 non-null   object\n",
      " 3   Person       1750 non-null   object\n",
      " 4   lug_boot     1750 non-null   object\n",
      " 5   safety       1750 non-null   object\n",
      " 6   class        1750 non-null   object\n",
      "dtypes: object(7)\n",
      "memory usage: 95.8+ KB\n"
     ]
    }
   ],
   "source": [
    "df.info()\n",
    "#A continuación se presenta el tipo de datos de cada variable"
   ]
  },
  {
   "cell_type": "code",
   "execution_count": 6,
   "id": "ad08f162",
   "metadata": {},
   "outputs": [
    {
     "data": {
      "text/plain": [
       "Buying         0\n",
       "Maintenance    0\n",
       "Doors          0\n",
       "Person         0\n",
       "lug_boot       0\n",
       "safety         0\n",
       "class          0\n",
       "dtype: int64"
      ]
     },
     "execution_count": 6,
     "metadata": {},
     "output_type": "execute_result"
    }
   ],
   "source": [
    "df.isnull().sum()\n",
    "#El dataset no contiene missing values"
   ]
  },
  {
   "cell_type": "code",
   "execution_count": 7,
   "id": "5b5adb09",
   "metadata": {},
   "outputs": [
    {
     "data": {
      "text/plain": [
       "unacc    1215\n",
       "acc       390\n",
       "good       75\n",
       "vgood      70\n",
       "Name: class, dtype: int64"
      ]
     },
     "execution_count": 7,
     "metadata": {},
     "output_type": "execute_result"
    }
   ],
   "source": [
    "df['class'].value_counts()\n",
    "# La variable objetivo es Class y presenta 4 valores unacc, acc, good, vgood"
   ]
  },
  {
   "cell_type": "code",
   "execution_count": 8,
   "id": "90ee05f4",
   "metadata": {
    "scrolled": true
   },
   "outputs": [
    {
     "data": {
      "image/png": "[encoded data removed]",
      "text/plain": [
       "<Figure size 432x288 with 1 Axes>"
      ]
     },
     "metadata": {
      "needs_background": "light"
     },
     "output_type": "display_data"
    }
   ],
   "source": [
    "df['class'].value_counts().plot(kind = \"bar\")\n",
    "plt.xlabel(\"Acepabilidad del vehiculo\", labelpad=14)\n",
    "plt.ylabel(\"Instancias\", labelpad=14)\n",
    "plt.show()"
   ]
  },
  {
   "cell_type": "code",
   "execution_count": 9,
   "id": "80a45404",
   "metadata": {},
   "outputs": [
    {
     "name": "stdout",
     "output_type": "stream",
     "text": [
      "Buying           [vhigh, high, med, low]\n",
      "Maintenance      [vhigh, high, med, low]\n",
      "Doors                   [2, 3, 4, 5more]\n",
      "Person                      [2, 4, more]\n",
      "lug_boot               [small, med, big]\n",
      "safety                  [low, med, high]\n",
      "class          [unacc, acc, vgood, good]\n",
      "dtype: object\n"
     ]
    }
   ],
   "source": [
    "# A continuación los atributos de entrada y la variable objeivo y sus valores\n",
    "\n",
    "print(df.apply(lambda col: col.unique()))"
   ]
  },
  {
   "cell_type": "code",
   "execution_count": 10,
   "id": "652a8a58",
   "metadata": {},
   "outputs": [
    {
     "data": {
      "image/png": "[encoded data removed]",
      "text/plain": [
       "<Figure size 1080x720 with 6 Axes>"
      ]
     },
     "metadata": {
      "needs_background": "light"
     },
     "output_type": "display_data"
    }
   ],
   "source": [
    "# A continuación se presenta para mayor entendimiento de los datos\n",
    "\n",
    "def count_plot(df, columns):\n",
    "    plt.figure(figsize=(15, 10))\n",
    "    for indx, var  in enumerate(columns):\n",
    "        plt.subplot(2, 3, indx+1)\n",
    "        g = sns.countplot(x= df[var], hue= df['class'])\n",
    "    plt.tight_layout()\n",
    "\n",
    "features = df.columns.tolist()\n",
    "features.remove('class')  \n",
    "count_plot(df, features)"
   ]
  },
  {
   "cell_type": "markdown",
   "id": "a7ab5e48",
   "metadata": {},
   "source": [
    "Hallazgos encontrados:\n",
    "\n",
    "\n",
    "Clases: La variable objetivo es Class  y se refiere a la aceptabilidad de un vehículo, presenta  4 clases, con los siguientes valores tipo categórico: unacc, acc, vgood, good\n",
    "\n",
    "Número de Instancias total: 1750\n",
    "\n",
    "Atributos de entrada: Se presentan 6 atributos de entrada, de tipo categórico\n",
    "\n",
    "+ Buying : vhigh, high, med, low\n",
    "+ Maintenance: vhigh, high, med, low\n",
    "+ Doors: 2, 3, 4, 5more\n",
    "+ Person: 2, 4, more\n",
    "+ lug_boot: small, med, big\n",
    "+ safety: low, med, high\n",
    "\n",
    "Número de instancias pertenecientes a cada clase: 1215 instancias de la clase unacc, 390 de acc, 75 de good y 70 de vgood\n",
    "\n",
    "El dataset no presenta valores nulos\n",
    "\n"
   ]
  },
  {
   "cell_type": "markdown",
   "id": "ece5beca",
   "metadata": {
    "ExecuteTime": {
     "end_time": "2022-03-14T15:52:20.156185Z",
     "start_time": "2022-03-14T15:52:20.150187Z"
    }
   },
   "source": [
    "## Preprocesamiento del dataset. Transformaciones previas necesarias para la modelación"
   ]
  },
  {
   "cell_type": "code",
   "execution_count": 11,
   "id": "3d3bf7c3",
   "metadata": {},
   "outputs": [],
   "source": [
    "#Código que realice las transformaciones necesarias para poder realizar los procesos de modelación. Ej.One hot enconding\n",
    "\n",
    "encoder = OrdinalEncoder()\n",
    "data_encoded = encoder.fit_transform(df[features])\n",
    "df_encoded = pd.DataFrame(data_encoded, columns=features)"
   ]
  },
  {
   "cell_type": "code",
   "execution_count": 12,
   "id": "adbb5d64",
   "metadata": {},
   "outputs": [],
   "source": [
    "encoder = LabelEncoder()\n",
    "target_encoded = encoder.fit_transform(df['class'])\n",
    "df_encoded['class'] = target_encoded"
   ]
  },
  {
   "cell_type": "code",
   "execution_count": 13,
   "id": "608b9910",
   "metadata": {},
   "outputs": [
    {
     "name": "stdout",
     "output_type": "stream",
     "text": [
      "Buying         [3.0, 0.0, 2.0, 1.0]\n",
      "Maintenance    [3.0, 0.0, 2.0, 1.0]\n",
      "Doors          [0.0, 1.0, 2.0, 3.0]\n",
      "Person              [0.0, 1.0, 2.0]\n",
      "lug_boot            [2.0, 1.0, 0.0]\n",
      "safety              [1.0, 2.0, 0.0]\n",
      "class                  [2, 0, 3, 1]\n",
      "dtype: object\n"
     ]
    }
   ],
   "source": [
    "print(df_encoded.apply(lambda col: col.unique()))"
   ]
  },
  {
   "cell_type": "code",
   "execution_count": 14,
   "id": "52e6ba4b",
   "metadata": {
    "scrolled": true
   },
   "outputs": [
    {
     "data": {
      "text/html": [
       "<div>\n",
       "<style scoped>\n",
       "    .dataframe tbody tr th:only-of-type {\n",
       "        vertical-align: middle;\n",
       "    }\n",
       "\n",
       "    .dataframe tbody tr th {\n",
       "        vertical-align: top;\n",
       "    }\n",
       "\n",
       "    .dataframe thead th {\n",
       "        text-align: right;\n",
       "    }\n",
       "</style>\n",
       "<table border=\"1\" class=\"dataframe\">\n",
       "  <thead>\n",
       "    <tr style=\"text-align: right;\">\n",
       "      <th></th>\n",
       "      <th>Buying</th>\n",
       "      <th>Maintenance</th>\n",
       "      <th>Doors</th>\n",
       "      <th>Person</th>\n",
       "      <th>lug_boot</th>\n",
       "      <th>safety</th>\n",
       "      <th>class</th>\n",
       "    </tr>\n",
       "  </thead>\n",
       "  <tbody>\n",
       "    <tr>\n",
       "      <th>0</th>\n",
       "      <td>3.0</td>\n",
       "      <td>3.0</td>\n",
       "      <td>0.0</td>\n",
       "      <td>0.0</td>\n",
       "      <td>2.0</td>\n",
       "      <td>1.0</td>\n",
       "      <td>2</td>\n",
       "    </tr>\n",
       "    <tr>\n",
       "      <th>1</th>\n",
       "      <td>3.0</td>\n",
       "      <td>3.0</td>\n",
       "      <td>0.0</td>\n",
       "      <td>0.0</td>\n",
       "      <td>2.0</td>\n",
       "      <td>2.0</td>\n",
       "      <td>2</td>\n",
       "    </tr>\n",
       "    <tr>\n",
       "      <th>2</th>\n",
       "      <td>3.0</td>\n",
       "      <td>3.0</td>\n",
       "      <td>0.0</td>\n",
       "      <td>0.0</td>\n",
       "      <td>2.0</td>\n",
       "      <td>0.0</td>\n",
       "      <td>2</td>\n",
       "    </tr>\n",
       "    <tr>\n",
       "      <th>3</th>\n",
       "      <td>3.0</td>\n",
       "      <td>3.0</td>\n",
       "      <td>0.0</td>\n",
       "      <td>0.0</td>\n",
       "      <td>1.0</td>\n",
       "      <td>1.0</td>\n",
       "      <td>2</td>\n",
       "    </tr>\n",
       "    <tr>\n",
       "      <th>4</th>\n",
       "      <td>3.0</td>\n",
       "      <td>3.0</td>\n",
       "      <td>0.0</td>\n",
       "      <td>0.0</td>\n",
       "      <td>1.0</td>\n",
       "      <td>2.0</td>\n",
       "      <td>2</td>\n",
       "    </tr>\n",
       "  </tbody>\n",
       "</table>\n",
       "</div>"
      ],
      "text/plain": [
       "   Buying  Maintenance  Doors  Person  lug_boot  safety  class\n",
       "0     3.0          3.0    0.0     0.0       2.0     1.0      2\n",
       "1     3.0          3.0    0.0     0.0       2.0     2.0      2\n",
       "2     3.0          3.0    0.0     0.0       2.0     0.0      2\n",
       "3     3.0          3.0    0.0     0.0       1.0     1.0      2\n",
       "4     3.0          3.0    0.0     0.0       1.0     2.0      2"
      ]
     },
     "execution_count": 14,
     "metadata": {},
     "output_type": "execute_result"
    }
   ],
   "source": [
    "df_encoded.head()"
   ]
  },
  {
   "cell_type": "markdown",
   "id": "49815fde",
   "metadata": {
    "ExecuteTime": {
     "end_time": "2022-03-14T15:56:34.366469Z",
     "start_time": "2022-03-14T15:56:34.358471Z"
    }
   },
   "source": [
    "## División del dataset en datos de entrenamiento y datos de test "
   ]
  },
  {
   "cell_type": "code",
   "execution_count": 15,
   "id": "6f26d21e",
   "metadata": {},
   "outputs": [
    {
     "name": "stdout",
     "output_type": "stream",
     "text": [
      "Train set: (1400, 6) (1400,)\n",
      "Test set: (350, 6) (350,)\n"
     ]
    }
   ],
   "source": [
    "#Código que realice la división en entrenamiento y test, de acuerdo con la estretgia de evluación planeada. Describa cuál es\n",
    "#Se utilizará el 80% de datos para entrenamiento y 20% de datps para testing \n",
    "\n",
    "X_train, X_test, Y_train, Y_test = train_test_split(df_encoded.drop('class', axis=1), df_encoded['class'], test_size=0.2, train_size=0.8, random_state=50)\n",
    "\n",
    "print ('Train set:', X_train.shape,  Y_train.shape)\n",
    "print ('Test set:', X_test.shape,  Y_test.shape)"
   ]
  },
  {
   "cell_type": "markdown",
   "id": "d552bc64",
   "metadata": {},
   "source": [
    "Justifique la selección de las dos propuestas de modelación seleccionadas:\n",
    "\n",
    "Teniendo en cuenta que se conocen las clases de las instancias, además el tipo de problema (Clasificación),  categoría de las variables entrada (Categóricas), atributos de salida (Variable de salida categórica), se decide implementar un algoritmo de árbol de decisión: (DecisionTreeClassifier) y un algoritmo de Randomforest  (RandomForestClassifier)"
   ]
  },
  {
   "cell_type": "markdown",
   "id": "a6117a81",
   "metadata": {},
   "source": [
    "## Modelo 1 Arbol de decision\n"
   ]
  },
  {
   "cell_type": "code",
   "execution_count": 16,
   "id": "d5d2b2c6",
   "metadata": {
    "scrolled": true
   },
   "outputs": [
    {
     "name": "stdout",
     "output_type": "stream",
     "text": [
      "Split number: 1\n",
      "Model 1 Accuracy: 0.8784\n",
      "Training accuracy: 0.8954\n",
      "Training set score: 0.8954\n",
      "Test set score: 0.8784\n",
      "              precision    recall  f1-score   support\n",
      "\n",
      "       unacc       0.73      0.90      0.81       261\n",
      "         acc       0.45      0.31      0.37        45\n",
      "       vgood       1.00      0.92      0.96       812\n",
      "        good       0.72      1.00      0.83        48\n",
      "\n",
      "    accuracy                           0.90      1166\n",
      "   macro avg       0.73      0.78      0.74      1166\n",
      "weighted avg       0.91      0.90      0.90      1166\n",
      "\n",
      "Split number: 2\n",
      "Model 1 Accuracy: 0.8851\n",
      "Training accuracy: 0.8886\n",
      "Training set score: 0.8886\n",
      "Test set score: 0.8851\n",
      "              precision    recall  f1-score   support\n",
      "\n",
      "       unacc       0.73      0.88      0.80       259\n",
      "         acc       0.45      0.27      0.34        56\n",
      "       vgood       0.99      0.93      0.96       804\n",
      "        good       0.70      1.00      0.82        48\n",
      "\n",
      "    accuracy                           0.89      1167\n",
      "   macro avg       0.72      0.77      0.73      1167\n",
      "weighted avg       0.90      0.89      0.89      1167\n",
      "\n",
      "Split number: 3\n",
      "Model 1 Accuracy: 0.8834\n",
      "Training accuracy: 0.8963\n",
      "Training set score: 0.8963\n",
      "Test set score: 0.8834\n",
      "              precision    recall  f1-score   support\n",
      "\n",
      "       unacc       0.76      0.85      0.80       260\n",
      "         acc       0.47      0.35      0.40        49\n",
      "       vgood       0.99      0.94      0.97       814\n",
      "        good       0.63      1.00      0.77        44\n",
      "\n",
      "    accuracy                           0.90      1167\n",
      "   macro avg       0.71      0.78      0.73      1167\n",
      "weighted avg       0.90      0.90      0.90      1167\n",
      "\n"
     ]
    }
   ],
   "source": [
    "#Código de ajuste del modelo de clasificación 1:  Árbol de decisión\n",
    "\n",
    "import warnings\n",
    "warnings.filterwarnings('ignore')\n",
    "\n",
    "X, Y = df_encoded.drop('class', axis=1), df_encoded['class']\n",
    "kfold = KFold(3, True, 1)\n",
    "\n",
    "X = X.to_numpy()\n",
    "Y = Y.to_numpy()\n",
    "\n",
    "i=1\n",
    "for train, test in kfold.split(X):\n",
    "    \n",
    "    X_train = X[train]\n",
    "    X_test = X[test]\n",
    "    Y_train = Y[train]\n",
    "    Y_test = Y[test]\n",
    "    \n",
    "    Modelo_1= DecisionTreeClassifier(criterion='gini', max_depth=6, random_state=0)\n",
    "    Modelo_1.fit(X_train, Y_train)\n",
    "    y_pred1= Modelo_1.predict(X_test)\n",
    "    \n",
    "    print('Split number: '+str(i))\n",
    "    i=i+1\n",
    "    print('Model 1 Accuracy: {0:0.4f}'. format(accuracy_score(Y_test, y_pred1)))\n",
    "    \n",
    "    y_pred1_train= Modelo_1.predict(X_train)\n",
    "    y_pred1_train\n",
    "    \n",
    "    print('Training accuracy: {0:0.4f}'. format(accuracy_score(Y_train, y_pred1_train)))\n",
    "    \n",
    "    print('Training set score: {:.4f}'.format(Modelo_1.score(X_train, Y_train)))\n",
    "    print('Test set score: {:.4f}'.format(Modelo_1.score(X_test, Y_test)))\n",
    "    \n",
    "    print(classification_report(Y_train, y_pred1_train, target_names = list(df['class'].unique())))\n",
    "    \n",
    "    "
   ]
  },
  {
   "cell_type": "code",
   "execution_count": 17,
   "id": "e1b94f80",
   "metadata": {},
   "outputs": [
    {
     "name": "stdout",
     "output_type": "stream",
     "text": [
      "Model 1 Accuracy Test: 0.8834\n",
      "Model 1 Accuracy Training: 0.8963\n"
     ]
    }
   ],
   "source": [
    "print('Model 1 Accuracy Test: {0:0.4f}'. format(accuracy_score(Y_test, y_pred1)))\n",
    "print('Model 1 Accuracy Training: {0:0.4f}'. format(accuracy_score(Y_train, y_pred1_train)))"
   ]
  },
  {
   "cell_type": "code",
   "execution_count": 18,
   "id": "e3a4895d",
   "metadata": {},
   "outputs": [
    {
     "data": {
      "image/png": "[encoded data removed]",
      "text/plain": [
       "<Figure size 1440x1080 with 1 Axes>"
      ]
     },
     "metadata": {
      "needs_background": "light"
     },
     "output_type": "display_data"
    }
   ],
   "source": [
    "# Grafico del arbol de decision\n",
    "fig = plt.figure(figsize=(20,15))\n",
    "_ = tree.plot_tree(Modelo_1,\n",
    "feature_names=df.columns.values,\n",
    "class_names= list(df['class'].unique()), filled=True)\n"
   ]
  },
  {
   "cell_type": "code",
   "execution_count": 19,
   "id": "e5c04509",
   "metadata": {},
   "outputs": [
    {
     "name": "stdout",
     "output_type": "stream",
     "text": [
      "Feature: 0, Score: 0.20156\n",
      "Feature: 1, Score: 0.12328\n",
      "Feature: 2, Score: 0.00398\n",
      "Feature: 3, Score: 0.22632\n",
      "Feature: 4, Score: 0.09797\n",
      "Feature: 5, Score: 0.34689\n"
     ]
    }
   ],
   "source": [
    "# Importancia de atributos\n",
    "importance = Modelo_1.feature_importances_\n",
    "for i,v in enumerate(importance):\n",
    "\tprint('Feature: %0d, Score: %.5f' % (i,v))"
   ]
  },
  {
   "cell_type": "markdown",
   "id": "11307f8f",
   "metadata": {},
   "source": [
    "## Modelo 2 Random Forest"
   ]
  },
  {
   "cell_type": "code",
   "execution_count": 20,
   "id": "833a421c",
   "metadata": {},
   "outputs": [
    {
     "name": "stdout",
     "output_type": "stream",
     "text": [
      "Split number: 1\n",
      "Model 1 Accuracy: 0.9058\n",
      "Training accuracy: 0.8928\n",
      "Training set score: 0.8928\n",
      "Test set score: 0.8904\n",
      "              precision    recall  f1-score   support\n",
      "\n",
      "       unacc       0.74      0.86      0.80       261\n",
      "         acc       0.45      0.31      0.37        45\n",
      "       vgood       0.99      0.93      0.96       812\n",
      "        good       0.72      1.00      0.83        48\n",
      "\n",
      "    accuracy                           0.89      1166\n",
      "   macro avg       0.72      0.77      0.74      1166\n",
      "weighted avg       0.90      0.89      0.89      1166\n",
      "\n",
      "Split number: 2\n",
      "Model 1 Accuracy: 0.9297\n",
      "Training accuracy: 0.8869\n",
      "Training set score: 0.8869\n",
      "Test set score: 0.9022\n",
      "              precision    recall  f1-score   support\n",
      "\n",
      "       unacc       0.73      0.86      0.79       259\n",
      "         acc       0.45      0.27      0.34        56\n",
      "       vgood       0.99      0.93      0.96       804\n",
      "        good       0.70      1.00      0.82        48\n",
      "\n",
      "    accuracy                           0.89      1167\n",
      "   macro avg       0.72      0.76      0.73      1167\n",
      "weighted avg       0.89      0.89      0.89      1167\n",
      "\n",
      "Split number: 3\n",
      "Model 1 Accuracy: 0.9091\n",
      "Training accuracy: 0.8963\n",
      "Training set score: 0.8963\n",
      "Test set score: 0.8834\n",
      "              precision    recall  f1-score   support\n",
      "\n",
      "       unacc       0.76      0.85      0.80       260\n",
      "         acc       0.47      0.35      0.40        49\n",
      "       vgood       0.99      0.94      0.97       814\n",
      "        good       0.63      1.00      0.77        44\n",
      "\n",
      "    accuracy                           0.90      1167\n",
      "   macro avg       0.71      0.78      0.73      1167\n",
      "weighted avg       0.90      0.90      0.90      1167\n",
      "\n"
     ]
    }
   ],
   "source": [
    "\n",
    "\n",
    "X, Y = df_encoded.drop('class', axis=1), df_encoded['class']\n",
    "kfold = KFold(3, True, 1)\n",
    "\n",
    "X = X.to_numpy()\n",
    "Y = Y.to_numpy()\n",
    " \n",
    "i=1\n",
    "for train, test in kfold.split(X):\n",
    "    \n",
    "    X_train = X[train]\n",
    "    X_test = X[test]\n",
    "    Y_train = Y[train]\n",
    "    Y_test = Y[test]\n",
    "    \n",
    "    Modelo_2= RandomForestClassifier(max_depth = 7, random_state=0)\n",
    "    Modelo_2.fit(X_train, Y_train)\n",
    "    y_pred2 = Modelo_2.predict(X_test)\n",
    "    \n",
    "    print('Split number: '+str(i))\n",
    "    i=i+1\n",
    "    print('Model 1 Accuracy: {0:0.4f}'. format(accuracy_score(Y_test, y_pred2)))\n",
    "    \n",
    "    y_pred2_train= Modelo_1.predict(X_train)\n",
    "    y_pred2_train\n",
    "    \n",
    "    print('Training accuracy: {0:0.4f}'. format(accuracy_score(Y_train, y_pred2_train)))\n",
    "    \n",
    "    print('Training set score: {:.4f}'.format(Modelo_1.score(X_train, Y_train)))\n",
    "    print('Test set score: {:.4f}'.format(Modelo_1.score(X_test, Y_test)))\n",
    "\n",
    "    \n",
    "    print(classification_report(Y_train, y_pred2_train, target_names = list(df['class'].unique())))"
   ]
  },
  {
   "cell_type": "code",
   "execution_count": 21,
   "id": "39ed3ee3",
   "metadata": {},
   "outputs": [
    {
     "name": "stdout",
     "output_type": "stream",
     "text": [
      "Model 2 Accuracy Test: 0.9091\n",
      "Model 2 Accuracy Training: 0.8963\n"
     ]
    }
   ],
   "source": [
    "print('Model 2 Accuracy Test: {0:0.4f}'. format(accuracy_score(Y_test, y_pred2)))\n",
    "print('Model 2 Accuracy Training: {0:0.4f}'. format(accuracy_score(Y_train, y_pred2_train)))"
   ]
  },
  {
   "cell_type": "code",
   "execution_count": 22,
   "id": "feaa9984",
   "metadata": {},
   "outputs": [
    {
     "name": "stdout",
     "output_type": "stream",
     "text": [
      "Feature: 0, Score: 0.14317\n",
      "Feature: 1, Score: 0.11453\n",
      "Feature: 2, Score: 0.03523\n",
      "Feature: 3, Score: 0.30755\n",
      "Feature: 4, Score: 0.07429\n",
      "Feature: 5, Score: 0.32523\n"
     ]
    }
   ],
   "source": [
    "# Importancia de atributos\n",
    "importance = Modelo_2.feature_importances_\n",
    "for i,v in enumerate(importance):\n",
    "\tprint('Feature: %0d, Score: %.5f' % (i,v))"
   ]
  },
  {
   "cell_type": "markdown",
   "id": "aa4b8461",
   "metadata": {},
   "source": [
    "## Evaluación de cada modelo"
   ]
  },
  {
   "cell_type": "markdown",
   "id": "60af7e31",
   "metadata": {},
   "source": [
    "## Evaluación de Modelo 1"
   ]
  },
  {
   "cell_type": "code",
   "execution_count": 23,
   "id": "6d1f752b",
   "metadata": {},
   "outputs": [
    {
     "data": {
      "text/plain": [
       "array([[113,   6,   8,   3],\n",
       "       [ 16,   6,   0,   4],\n",
       "       [ 29,   2, 370,   0],\n",
       "       [  0,   0,   0,  26]], dtype=int64)"
      ]
     },
     "execution_count": 23,
     "metadata": {},
     "output_type": "execute_result"
    }
   ],
   "source": [
    "# Matrz de confusion Modelo Arboles de decisión\n",
    "confusion_matrix(Y_test, y_pred1)"
   ]
  },
  {
   "cell_type": "markdown",
   "id": "3cbfed48",
   "metadata": {},
   "source": [
    "De la matriz de confusion se tienen para la Clase 1\n",
    "\n",
    "+ Instancias Clasificadas correctamente: 521 \n",
    "+ Instancias clasificadas incorrectamente: 62\n",
    "+ TP rate: 0.87\n",
    "+ FP rate: 0.10"
   ]
  },
  {
   "cell_type": "markdown",
   "id": "789f6048",
   "metadata": {},
   "source": [
    "## Evaluación de Modelo 2"
   ]
  },
  {
   "cell_type": "code",
   "execution_count": 24,
   "id": "efec0bb5",
   "metadata": {},
   "outputs": [
    {
     "data": {
      "text/plain": [
       "array([[110,   0,  20,   0],\n",
       "       [ 25,   1,   0,   0],\n",
       "       [  3,   0, 398,   0],\n",
       "       [  5,   0,   0,  21]], dtype=int64)"
      ]
     },
     "execution_count": 24,
     "metadata": {},
     "output_type": "execute_result"
    }
   ],
   "source": [
    "#Evaluacion Modelo 2\n",
    "# Matrz de confusion RandomForest\n",
    "confusion_matrix(Y_test, y_pred2)"
   ]
  },
  {
   "cell_type": "markdown",
   "id": "bf3a7cec",
   "metadata": {},
   "source": [
    "De la matriz de confusion se tienen para la Clase 1\n",
    "\n",
    "+ Instancias Clasificadas correctamente: 530 \n",
    "+ Instancias clasificadas incorrectamente: 53\n",
    "+ TP rate: 0.85\n",
    "+ FP rate: 0.07\n",
    "\n"
   ]
  },
  {
   "cell_type": "markdown",
   "id": "44df4eb5",
   "metadata": {},
   "source": [
    "## Comparación del desempeño de modelos"
   ]
  },
  {
   "cell_type": "code",
   "execution_count": 25,
   "id": "3f0f3d1a",
   "metadata": {
    "scrolled": false
   },
   "outputs": [
    {
     "name": "stdout",
     "output_type": "stream",
     "text": [
      "Metricas de desempeño Modelo Arbol de decision\n",
      "              precision    recall  f1-score   support\n",
      "\n",
      "       unacc       0.72      0.87      0.78       130\n",
      "         acc       0.43      0.23      0.30        26\n",
      "       vgood       0.98      0.92      0.95       401\n",
      "        good       0.79      1.00      0.88        26\n",
      "\n",
      "    accuracy                           0.88       583\n",
      "   macro avg       0.73      0.76      0.73       583\n",
      "weighted avg       0.89      0.88      0.88       583\n",
      "\n",
      "Model 1 accuracy is: 0.8834\n",
      "Metricas de desempeño Modelo Random Forest\n",
      "              precision    recall  f1-score   support\n",
      "\n",
      "       unacc       0.77      0.85      0.81       130\n",
      "         acc       1.00      0.04      0.07        26\n",
      "       vgood       0.95      0.99      0.97       401\n",
      "        good       1.00      0.81      0.89        26\n",
      "\n",
      "    accuracy                           0.91       583\n",
      "   macro avg       0.93      0.67      0.69       583\n",
      "weighted avg       0.92      0.91      0.89       583\n",
      "\n",
      "Model 2 accuracy is: 0.9091\n"
     ]
    }
   ],
   "source": [
    "#Metricas de desempeño \n",
    "\n",
    "print('Metricas de desempeño Modelo Arbol de decision')\n",
    "print(classification_report(Y_test, y_pred1, target_names = list(df['class'].unique())))\n",
    "print('Model 1 accuracy is: {0:0.4f}'. format(accuracy_score(Y_test, y_pred1)))\n",
    "\n",
    "print('Metricas de desempeño Modelo Random Forest')\n",
    "print(classification_report(Y_test, y_pred2, target_names = list(df['class'].unique())))\n",
    "print('Model 2 accuracy is: {0:0.4f}'. format(accuracy_score(Y_test, y_pred2)))\n",
    "\n"
   ]
  },
  {
   "cell_type": "code",
   "execution_count": 26,
   "id": "7308d242",
   "metadata": {},
   "outputs": [
    {
     "data": {
      "image/png": "[encoded data removed]",
      "text/plain": [
       "<Figure size 432x288 with 1 Axes>"
      ]
     },
     "metadata": {
      "needs_background": "light"
     },
     "output_type": "display_data"
    }
   ],
   "source": [
    "serie_1 = [0.88,0.88,0.89,0.88,0.87,0.10] \n",
    "serie_2 = [0.90, 0.91, 0.92, 0.89, 0.85, 0.07]\n",
    " \n",
    " \n",
    "numero_de_grupos = len(serie_1)\n",
    "indice_barras = np.arange(numero_de_grupos)\n",
    "ancho_barras =0.35\n",
    " \n",
    "plt.bar(indice_barras, serie_1, width=ancho_barras, label='Arbol de decision')\n",
    "plt.bar(indice_barras + ancho_barras, serie_2, width=ancho_barras, label='Random forest')\n",
    "plt.legend(loc='best')\n",
    "## Se colocan los indicadores en el eje x\n",
    "plt.xticks(indice_barras + ancho_barras, ('Accuracy','Recall','Precision','F1','TP rate','FP rate'))\n",
    " \n",
    "plt.ylabel('Resultado')\n",
    "plt.xlabel('Metrica')\n",
    "plt.axis([None, None, 0, 1.1])\n",
    "plt.legend(loc = 'upper right')\n",
    "plt.show()"
   ]
  },
  {
   "cell_type": "markdown",
   "id": "f810fb47",
   "metadata": {
    "ExecuteTime": {
     "end_time": "2022-03-14T16:16:57.134093Z",
     "start_time": "2022-03-14T16:16:57.117129Z"
    }
   },
   "source": [
    "## Discusión de los resultados obtenidos y argumentos sobre cómo se podrían mejorar de dichos resultados"
   ]
  },
  {
   "cell_type": "markdown",
   "id": "b20c212f",
   "metadata": {},
   "source": [
    "Al momento de evaluar un modelo la métrica de Accuracy o Exactitud nos indica el porcentaje de predicciones correctas que el modelo fue capaz de predecir. De manera general, a partir de los resultados obtenidos para el set de datos empleados ambos modelos presentan buen rendimiento con Accuracy de 0.8834 y 0.9091. Sin embargo, el algoritmo de Randomforest presenta mejores predictores en el proceso de clasificación que los arboles de decisión.\n",
    "\n",
    "En el modelo con árbol de decisión, el Accuracy del conjunto de entrenamiento fue de 0.8963 mientras que en el conjunto de prueba es 0,8834. De manera similar, en el modelo con Random forest de criterio, el Accuracy del conjunto de entrenamiento es 0.8963 mientras que la precisión del conjunto de prueba es 0.9091. En ambos casos, los resultados para el conjunto de entrenamiento y del conjunto de prueba son comparables, por tanto no se presenta sobreajuste.\n",
    "\n",
    "El algoritmo de árbol de decision  requiere poco procesamiento previo de los datos  siendo así un modelo que permite obtener resultados fácil y rápido, sin necesidad de conocimientos previos sobre el problema analizado. Sin embargo un pequeño cambio en los datos puede cambiar sustancialmente la estructura de predicción, adicionalmente son propensos al sobreajuste generando unos resultados de Accurcy inferiores a otros métodos. En este ejercicio se comprobó que usar el método de random forest incrementa los valores de Exactitud del modelo; esto es lógico ya que utiliza varios árboles de decisión y por tanto el algoritmo.\n",
    "\n",
    "De acuerdo con los resultados la variable más importante es safety, seguido de capacidad de personas, precio de compra, seguido de precio de mantenimiento, puertas y el tamaño del maletero es  la última consideración.\n"
   ]
  }
 ],
 "metadata": {
  "kernelspec": {
   "display_name": "Python 3 (ipykernel)",
   "language": "python",
   "name": "python3"
  },
  "language_info": {
   "codemirror_mode": {
    "name": "ipython",
    "version": 3
   },
   "file_extension": ".py",
   "mimetype": "text/x-python",
   "name": "python",
   "nbconvert_exporter": "python",
   "pygments_lexer": "ipython3",
   "version": "3.9.12"
  },
  "toc": {
   "base_numbering": 1,
   "nav_menu": {},
   "number_sections": true,
   "sideBar": true,
   "skip_h1_title": true,
   "title_cell": "Tabla de Contenido",
   "title_sidebar": "Contenido",
   "toc_cell": false,
   "toc_position": {
    "height": "calc(100% - 180px)",
    "left": "10px",
    "top": "150px",
    "width": "337.597px"
   },
   "toc_section_display": true,
   "toc_window_display": true
  }
 },
 "nbformat": 4,
 "nbformat_minor": 5
}
